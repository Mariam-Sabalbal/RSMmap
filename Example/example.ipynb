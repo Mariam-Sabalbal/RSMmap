{
 "cells": [
  {
   "cell_type": "code",
   "execution_count": null,
   "metadata": {},
   "outputs": [],
   "source": [
    "import vip_hci as vip\n",
    "import os\n",
    "from hci_plot import plot_frames\n",
    "import sys\n",
    "sys.path.append('../../')   # append the path to PyRSM\n",
    "from PyRSM import *"
   ]
  },
  {
   "cell_type": "code",
   "execution_count": null,
   "metadata": {},
   "outputs": [],
   "source": [
    "os.chdir('/Users/XXX')\n",
    "\n",
    "vip.fits.info_fits('./cube_not_normalized.fits')\n",
    "psfnaco = './naco_betapic_psf.fits'\n",
    "cube = './cube_not_normalized.fits'\n",
    "angle = './parang.fits'\n",
    "\n",
    "angs = vip.fits.open_fits(angle)\n",
    "cube_orig = vip.fits.open_fits(cube)\n",
    "psf = vip.fits.open_fits(psfnaco)\n",
    "pxscale_naco = vip.conf.VLT_NACO['plsc']"
   ]
  },
  {
   "cell_type": "code",
   "execution_count": null,
   "metadata": {},
   "outputs": [],
   "source": [
    "# Measure the FWHM by fitting a 2d Gaussian to the core of the PSF\n",
    "\n",
    "fit = vip.var.fit_2dgaussian(psf, crop=True, cropsize=9, debug=True)\n",
    "fwhm = float((fit.fwhm_y+fit.fwhm_x)/2)\n",
    "\n",
    "# Normalize the PSF flux to one in the FWHM aperture\n",
    "\n",
    "psfn = vip.metrics.normalize_psf(psf, fwhm, size=19)\n",
    "psf=  vip.preproc.frame_crop(psfn,11)"
   ]
  },
  {
   "cell_type": "code",
   "execution_count": null,
   "metadata": {},
   "outputs": [],
   "source": [
    "# Center the cube (odd shape)\n",
    "\n",
    "centy,centx=vip.var.frame_center(cube_orig[0])\n",
    "cube_recentered, shy1, shx1 = vip.preproc.cube_recenter_2dfit(cube_orig, \n",
    "                                                        xy= (int(centx)+1,int(centy)+1),\n",
    "                                                        fwhm=fwhm, nproc=1, subi_size=5, \n",
    "                                                        model='gauss', negative=True, full_output=True,\n",
    "                                                        debug=False)\n"
   ]
  },
  {
   "cell_type": "code",
   "execution_count": null,
   "metadata": {},
   "outputs": [],
   "source": [
    "# Create PyRSM class object\n",
    "\n",
    "d=PyRSM(fwhm,minradius=5,maxradius=45,pxscale=pxscale_naco,ncore=1)\n",
    "\n",
    "# Add a cube\n",
    "\n",
    "d.add_cube(psf,cube_recentered, angs)\n",
    "\n",
    "# Add several methods\n",
    "\n",
    "d.add_method('APCA', flux=True, distri='auto', ncomp=20, var='Time', delta_rot=0.5, asize=5)\n",
    "d.add_method('NMF', flux=True, distri='auto', ncomp=20, var='Time')\n",
    "d.add_method('LLSG', flux=True, distri='auto', rank=5, var='Time', delta_rot=0.5, asize=5)\n",
    "\n",
    "# Estimate the cube of likelihoods\n",
    "\n",
    "d.lik_esti(verbose=True)     \n",
    "\n",
    "# Estimate final RSM map\n",
    "     \n",
    "d.probmap_esti(estimator='Forward-Backward',colmode='median')\n",
    "\n",
    "# Plot final probability map\n",
    "\n",
    "plot_frames(d.probmap)"
   ]
  }
 ],
 "metadata": {
  "kernelspec": {
   "display_name": "Python 3",
   "language": "python",
   "name": "python3"
  },
  "language_info": {
   "codemirror_mode": {
    "name": "ipython",
    "version": 3
   },
   "file_extension": ".py",
   "mimetype": "text/x-python",
   "name": "python",
   "nbconvert_exporter": "python",
   "pygments_lexer": "ipython3",
   "version": "3.7.4"
  }
 },
 "nbformat": 4,
 "nbformat_minor": 2
}
